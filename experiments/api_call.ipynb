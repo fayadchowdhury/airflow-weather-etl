{
 "cells": [
  {
   "cell_type": "code",
   "execution_count": 1,
   "id": "2b83818f-d963-4f1d-b136-a0ed6ea7c09d",
   "metadata": {},
   "outputs": [],
   "source": [
    "import requests\n",
    "import json\n",
    "from time import time, sleep\n",
    "from datetime import datetime"
   ]
  },
  {
   "cell_type": "code",
   "execution_count": 2,
   "id": "89aeff7c-08b6-453f-bf7a-1658fa0c5ab4",
   "metadata": {},
   "outputs": [
    {
     "name": "stdout",
     "output_type": "stream",
     "text": [
      "ERROR! Session/line number was not unique in database. History logging moved to new session 37\n"
     ]
    }
   ],
   "source": [
    "base_url = f\"https://api.open-meteo.com/v1/forecast\""
   ]
  },
  {
   "cell_type": "code",
   "execution_count": 3,
   "id": "1b10bddc-c474-4454-ab21-d45c54f22574",
   "metadata": {},
   "outputs": [],
   "source": [
    "query_params = {\n",
    "    \"latitude\": \"49.2827\",\n",
    "    \"longitude\": \"-123.1207\",\n",
    "    \"timezone\": \"auto\",\n",
    "    \"models\": \"gem_seamless\",\n",
    "    \"current\": \"temperature_2m,precipitation_probability,relative_humidity_2m\"\n",
    "}"
   ]
  },
  {
   "cell_type": "code",
   "execution_count": 4,
   "id": "5027a99e-f0ce-4080-9093-56f8419660f3",
   "metadata": {},
   "outputs": [],
   "source": [
    "response = requests.get(url=base_url, params=query_params)"
   ]
  },
  {
   "cell_type": "code",
   "execution_count": 5,
   "id": "0cff82b8-d348-4b39-8ae3-3035be453c72",
   "metadata": {},
   "outputs": [
    {
     "name": "stdout",
     "output_type": "stream",
     "text": [
      "Successful response\n"
     ]
    }
   ],
   "source": [
    "if response.status_code == 200:\n",
    "    print(f\"Successful response\")\n",
    "else:\n",
    "    print(f\"Error with response\")"
   ]
  },
  {
   "cell_type": "code",
   "execution_count": 6,
   "id": "beebf839-e833-4ed6-bb82-8d890010e5d5",
   "metadata": {},
   "outputs": [],
   "source": [
    "data = response.json()"
   ]
  },
  {
   "cell_type": "code",
   "execution_count": 7,
   "id": "897af91e-c4fa-424d-b244-dc058fa2fdc0",
   "metadata": {},
   "outputs": [
    {
     "name": "stdout",
     "output_type": "stream",
     "text": [
      "{'latitude': 49.291256, 'longitude': -123.13098, 'generationtime_ms': 0.02682209014892578, 'utc_offset_seconds': -25200, 'timezone': 'America/Vancouver', 'timezone_abbreviation': 'GMT-7', 'elevation': 40.0, 'current_units': {'time': 'iso8601', 'interval': 'seconds', 'temperature_2m': '°C', 'precipitation_probability': '%', 'relative_humidity_2m': '%'}, 'current': {'time': '2025-03-20T16:30', 'interval': 900, 'temperature_2m': 6.7, 'precipitation_probability': 28, 'relative_humidity_2m': 84}}\n"
     ]
    }
   ],
   "source": [
    "print(data)"
   ]
  },
  {
   "cell_type": "code",
   "execution_count": 8,
   "id": "94d96d6b-4ffa-4187-8d42-4cf13b255b91",
   "metadata": {},
   "outputs": [
    {
     "name": "stdout",
     "output_type": "stream",
     "text": [
      "Fetch time: 2025-03-20T16:41\n",
      "Data time: 2025-03-20T16:30\n",
      "Latitude: 49.291256\n",
      "Longitude: -123.13098\n",
      "Temperature: 6.7°C\n",
      "Precipitation probability: 28%\n",
      "Relative humidity: 84%\n",
      "------------------------------\n"
     ]
    }
   ],
   "source": [
    "latitude = data[\"latitude\"]\n",
    "longitude = data[\"longitude\"]\n",
    "data_time = data[\"current\"][\"time\"]\n",
    "fetch_time = datetime.now().strftime(\"%Y-%m-%dT%H:%M\")\n",
    "temperature = data[\"current\"][\"temperature_2m\"]\n",
    "precipitation_probability = data[\"current\"][\"precipitation_probability\"]\n",
    "relative_humidity = data[\"current\"][\"relative_humidity_2m\"]\n",
    "print(f\"Fetch time: {fetch_time}\")\n",
    "print(f\"Data time: {data_time}\")\n",
    "print(f\"Latitude: {latitude}\")\n",
    "print(f\"Longitude: {longitude}\")\n",
    "print(f\"Temperature: {temperature}°C\")\n",
    "print(f\"Precipitation probability: {precipitation_probability}%\")\n",
    "print(f\"Relative humidity: {relative_humidity}%\")\n",
    "print(f\"-\"*30)"
   ]
  },
  {
   "cell_type": "code",
   "execution_count": 9,
   "id": "4a090a19-7bfd-464b-8927-0a6b9a0ed03b",
   "metadata": {},
   "outputs": [
    {
     "name": "stdout",
     "output_type": "stream",
     "text": [
      "Fetch time: 2025-03-20T16:41\n",
      "Data time: 2025-03-20T16:30\n",
      "Latitude: 49.291256\n",
      "Longitude: -123.13098\n",
      "Temperature: 6.7°C\n",
      "Precipitation probability: 28%\n",
      "Relative humidity: 84%\n",
      "------------------------------\n",
      "Fetch time: 2025-03-20T16:56\n",
      "Data time: 2025-03-20T16:45\n",
      "Latitude: 49.291256\n",
      "Longitude: -123.13098\n",
      "Temperature: 6.5°C\n",
      "Precipitation probability: 26%\n",
      "Relative humidity: 87%\n",
      "------------------------------\n"
     ]
    },
    {
     "ename": "KeyboardInterrupt",
     "evalue": "",
     "output_type": "error",
     "traceback": [
      "\u001b[31m---------------------------------------------------------------------------\u001b[39m",
      "\u001b[31mKeyboardInterrupt\u001b[39m                         Traceback (most recent call last)",
      "\u001b[36mCell\u001b[39m\u001b[36m \u001b[39m\u001b[32mIn[9]\u001b[39m\u001b[32m, line 22\u001b[39m\n\u001b[32m     20\u001b[39m \u001b[38;5;28;01mexcept\u001b[39;00m \u001b[38;5;167;01mException\u001b[39;00m \u001b[38;5;28;01mas\u001b[39;00m e:\n\u001b[32m     21\u001b[39m     \u001b[38;5;28mprint\u001b[39m(\u001b[33mf\u001b[39m\u001b[33m\"\u001b[39m\u001b[33mError: \u001b[39m\u001b[38;5;132;01m{\u001b[39;00me\u001b[38;5;132;01m}\u001b[39;00m\u001b[33m\"\u001b[39m)\n\u001b[32m---> \u001b[39m\u001b[32m22\u001b[39m \u001b[43msleep\u001b[49m\u001b[43m(\u001b[49m\u001b[32;43m900\u001b[39;49m\u001b[43m)\u001b[49m\n",
      "\u001b[31mKeyboardInterrupt\u001b[39m: "
     ]
    }
   ],
   "source": [
    "while True:\n",
    "    try:\n",
    "        response = requests.get(url=base_url, params=query_params)\n",
    "        data = response.json()\n",
    "        latitude = data[\"latitude\"]\n",
    "        longitude = data[\"longitude\"]\n",
    "        data_time = data[\"current\"][\"time\"]\n",
    "        fetch_time = datetime.now().strftime(\"%Y-%m-%dT%H:%M\")\n",
    "        temperature = data[\"current\"][\"temperature_2m\"]\n",
    "        precipitation_probability = data[\"current\"][\"precipitation_probability\"]\n",
    "        relative_humidity = data[\"current\"][\"relative_humidity_2m\"]\n",
    "        print(f\"Fetch time: {fetch_time}\")\n",
    "        print(f\"Data time: {data_time}\")\n",
    "        print(f\"Latitude: {latitude}\")\n",
    "        print(f\"Longitude: {longitude}\")\n",
    "        print(f\"Temperature: {temperature}°C\")\n",
    "        print(f\"Precipitation probability: {precipitation_probability}%\")\n",
    "        print(f\"Relative humidity: {relative_humidity}%\")\n",
    "        print(f\"-\"*30)\n",
    "    except Exception as e:\n",
    "        print(f\"Error: {e}\")\n",
    "    sleep(900)"
   ]
  }
 ],
 "metadata": {
  "kernelspec": {
   "display_name": "Python 3 (ipykernel)",
   "language": "python",
   "name": "python3"
  },
  "language_info": {
   "codemirror_mode": {
    "name": "ipython",
    "version": 3
   },
   "file_extension": ".py",
   "mimetype": "text/x-python",
   "name": "python",
   "nbconvert_exporter": "python",
   "pygments_lexer": "ipython3",
   "version": "3.13.2"
  }
 },
 "nbformat": 4,
 "nbformat_minor": 5
}
